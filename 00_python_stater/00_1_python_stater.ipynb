{
 "cells": [
  {
   "cell_type": "markdown",
   "metadata": {},
   "source": [
    "# 1 入门简介\n",
    "\n",
    "## 1.1 基本数据类型\n",
    "\n",
    "基本数据类型包括一下几个部分\n",
    "* 字符串变量string\n",
    "* 列表变量list\n",
    "* 集合set \n",
    "* 字典 dictionary\n",
    "* 数组 numpy arrays\n",
    "\n",
    "\n",
    "\n",
    "types         | define                 | name\n",
    ":----------------|:------------------------------ |: ----------\n",
    "string        | s1 = \"Hello World! \"        |字符串\n",
    "list         | list1 = [1,10, 'hello', 5+10]; |列表结构 \n",
    "set          | set1 = {1,1,2,3};          |集合结构\n",
    "dictionary     | dic1 = {'legs':2, 'hands':2};  |字典结构  \n",
    "numpy arrays    | arrays1 = array([1,2,3,4]);   |数组结构"
   ]
  },
  {
   "cell_type": "markdown",
   "metadata": {},
   "source": [
    "### 1.1.1 字符串变量String"
   ]
  },
  {
   "cell_type": "code",
   "execution_count": 1,
   "metadata": {},
   "outputs": [
    {
     "data": {
      "text/plain": [
       "'Hello World! Are you OK?'"
      ]
     },
     "execution_count": 1,
     "metadata": {},
     "output_type": "execute_result"
    }
   ],
   "source": [
    "#  String\n",
    "s1 = \"Hello World! \" ;  #分号的作用在于结束本条语句，两条语句同时在同一行时，需要用分号隔开\n",
    "s2 = 'Are you OK?'; # 注: 在python语法中，单引号双引是一样的 \n",
    "s = s1+ s2\n",
    "s "
   ]
  },
  {
   "cell_type": "markdown",
   "metadata": {},
   "source": [
    "### 1.1.2 列表结构 List"
   ]
  },
  {
   "cell_type": "code",
   "execution_count": 2,
   "metadata": {},
   "outputs": [
    {
     "ename": "TypeError",
     "evalue": "can only concatenate list (not \"int\") to list",
     "output_type": "error",
     "traceback": [
      "\u001b[1;31m---------------------------------------------------------------------------\u001b[0m",
      "\u001b[1;31mTypeError\u001b[0m                                 Traceback (most recent call last)",
      "\u001b[1;32m<ipython-input-2-be0eb2ed1bff>\u001b[0m in \u001b[0;36m<module>\u001b[1;34m()\u001b[0m\n\u001b[0;32m      3\u001b[0m \u001b[0mstr3\u001b[0m \u001b[1;33m=\u001b[0m \u001b[0mlist1\u001b[0m\u001b[1;33m[\u001b[0m\u001b[1;36m2\u001b[0m\u001b[1;33m]\u001b[0m\u001b[1;33m+\u001b[0m \u001b[1;34m' world'\u001b[0m\u001b[1;33m;\u001b[0m\u001b[1;33m\u001b[0m\u001b[0m\n\u001b[0;32m      4\u001b[0m \u001b[0mlist2\u001b[0m \u001b[1;33m=\u001b[0m \u001b[1;33m[\u001b[0m\u001b[1;36m1\u001b[0m\u001b[1;33m,\u001b[0m\u001b[1;36m2\u001b[0m\u001b[1;33m,\u001b[0m\u001b[1;36m3\u001b[0m\u001b[1;33m,\u001b[0m\u001b[1;36m4\u001b[0m\u001b[1;33m]\u001b[0m\u001b[1;33m;\u001b[0m\u001b[1;33m\u001b[0m\u001b[0m\n\u001b[1;32m----> 5\u001b[1;33m \u001b[0mlist3\u001b[0m \u001b[1;33m=\u001b[0m \u001b[0mlist2\u001b[0m \u001b[1;33m+\u001b[0m \u001b[1;36m3\u001b[0m\u001b[1;33m;\u001b[0m     \u001b[1;31m# list和list才能相加，报错 ，list的相加，表示两个list相互链接\u001b[0m\u001b[1;33m\u001b[0m\u001b[0m\n\u001b[0m",
      "\u001b[1;31mTypeError\u001b[0m: can only concatenate list (not \"int\") to list"
     ]
    }
   ],
   "source": [
    "#list 类似于matlab中的cell\n",
    "list1 = [1,10, 'hello', 5+10];     # 列表中的数据类型可以是多种类型\n",
    "str3 = list1[2]+ ' world';\n",
    "list2 = [1,2,3,4];\n",
    "list3 = list2 + 3;     # list和list才能相加，报错 ，list的相加，表示两个list相互链接\n"
   ]
  },
  {
   "cell_type": "markdown",
   "metadata": {},
   "source": [
    "### 1.1.3 集合结构 Set\n",
    "Set结构表示一个集合，用\"{}\"定义一个集合，与数学中的集合概念类似，用列表的方式显示出来，没有重复的元素"
   ]
  },
  {
   "cell_type": "code",
   "execution_count": 3,
   "metadata": {},
   "outputs": [
    {
     "data": {
      "text/plain": [
       "{1, 4}"
      ]
     },
     "execution_count": 3,
     "metadata": {},
     "output_type": "execute_result"
    }
   ],
   "source": [
    "set1 = {1,1,2,3}; # 最终显示有“{1，2，3}”\n",
    "set2 = set1.copy(); set2.add(4) # 自己操作赋值给自己，set2={1,2,3,4}\n",
    "set3 = set2.copy(); set3.remove(1) # !set3 = {2,3,4} 这里有个知识点！等号并不能赋值，要用copy\n",
    "set1 & set3 ; \n",
    "set1 | set3 ; \n",
    "set1 ^set3     # = set1 | set3 - set1 & set3 "
   ]
  },
  {
   "cell_type": "markdown",
   "metadata": {},
   "source": [
    "### 1.1.4 字典Dictionary\n",
    "用{key1:vauel1, key2: value2, ...}来定义一个字典， 类似于c++中的map"
   ]
  },
  {
   "cell_type": "code",
   "execution_count": 4,
   "metadata": {},
   "outputs": [
    {
     "data": {
      "text/plain": [
       "{'ears': 2, 'hands': 2, 'legs': 2}"
      ]
     },
     "execution_count": 4,
     "metadata": {},
     "output_type": "execute_result"
    }
   ],
   "source": [
    "dic1 = {'legs':2, 'hands':2};\n",
    "dic1['legs'] ; # 2\n",
    "dic1['ears'] = 2; # 插入元素 dic1 = {'ears':2, 'hands':2,'legs':2}\n",
    "dic1"
   ]
  },
  {
   "cell_type": "markdown",
   "metadata": {},
   "source": [
    "### 1.1.5 数组numpy arrays\n",
    "需要导入包 \"from numpy import array\" 与list 有相同之处又有很多灵活性"
   ]
  },
  {
   "cell_type": "code",
   "execution_count": 5,
   "metadata": {},
   "outputs": [
    {
     "data": {
      "text/plain": [
       "array([ 4,  6,  8, 10])"
      ]
     },
     "execution_count": 5,
     "metadata": {},
     "output_type": "execute_result"
    }
   ],
   "source": [
    "from numpy import array # 与matlab中的向量非常像了，\n",
    "arrays1 = array([1,2,3,4]); \n",
    "arrays2  = arrays1+ 2; # array([3,4,5,6])\n",
    "arrays3  = arrays1 + arrays2\n",
    "arrays3"
   ]
  },
  {
   "cell_type": "markdown",
   "metadata": {},
   "source": [
    "## 1.2 作图 "
   ]
  },
  {
   "cell_type": "code",
   "execution_count": 6,
   "metadata": {},
   "outputs": [
    {
     "data": {
      "text/plain": [
       "[<matplotlib.lines.Line2D at 0x21fbeddaa90>]"
      ]
     },
     "execution_count": 6,
     "metadata": {},
     "output_type": "execute_result"
    },
    {
     "data": {
      "image/png": "[encoded data removed]",
      "text/plain": [
       "<matplotlib.figure.Figure at 0x21fbcd834e0>"
      ]
     },
     "metadata": {},
     "output_type": "display_data"
    }
   ],
   "source": [
    "%matplotlib inline \n",
    "# 内嵌作图，将图绘制在本页面中\n",
    "from matplotlib.pyplot import plot\n",
    "from numpy import array\n",
    "a = array([1,2,3,4]);\n",
    "plot(a, a**2)"
   ]
  },
  {
   "cell_type": "markdown",
   "metadata": {},
   "source": [
    "## 1.3. 循环 loop"
   ]
  },
  {
   "cell_type": "code",
   "execution_count": 7,
   "metadata": {},
   "outputs": [
    {
     "name": "stdout",
     "output_type": "stream",
     "text": [
      "****** while language: *****\n",
      "5050\n",
      "****** for language: *****\n",
      "C\n",
      "C++\n",
      "Perl\n",
      "Python\n"
     ]
    }
   ],
   "source": [
    "print(\"****** while language: *****\")\n",
    "counter =1; \n",
    "sum = 0;\n",
    "while counter <= 100 :\n",
    "    sum = sum+ counter;\n",
    "    counter = counter+1;\n",
    "print(sum);\n",
    "print(\"****** for language: *****\")\n",
    "languages = [\"C\", \"C++\", \"Perl\", \"Python\"] \n",
    "for x in languages:\n",
    "     print (x)"
   ]
  },
  {
   "cell_type": "markdown",
   "metadata": {},
   "source": [
    "## 1.4 文件操作 file IO"
   ]
  },
  {
   "cell_type": "code",
   "execution_count": 8,
   "metadata": {},
   "outputs": [
    {
     "name": "stdout",
     "output_type": "stream",
     "text": [
      "[1, 2, 3, 4]\n",
      "[2, 3, 4, 5]\n"
     ]
    }
   ],
   "source": [
    "f = open('test_File_operation.txt','w');\n",
    "f.write('1 2 3 4\\n')\n",
    "f.write('2 3 4 5\\n')\n",
    "f.close()\n",
    "f = open('test_File_operation.txt')\n",
    "data = []\n",
    "for line in f:\n",
    "    data.append([int(field) for field in line.split()])\n",
    "f.close()\n",
    "\n",
    "\n",
    "for row in data:\n",
    "    print(row)"
   ]
  },
  {
   "cell_type": "markdown",
   "metadata": {},
   "source": [
    "## 1.5 函数 Function"
   ]
  },
  {
   "cell_type": "code",
   "execution_count": 9,
   "metadata": {},
   "outputs": [
    {
     "name": "stdout",
     "output_type": "stream",
     "text": [
      "11\n"
     ]
    }
   ],
   "source": [
    "def my_ploy_Fun(x,a,b,c):\n",
    "    y = a* x**2 + b*x +c;\n",
    "    return y\n",
    "x = 2;\n",
    "print(my_ploy_Fun(x, 1,2,3))"
   ]
  },
  {
   "cell_type": "markdown",
   "metadata": {},
   "source": [
    "## 1.6 模块"
   ]
  },
  {
   "cell_type": "markdown",
   "metadata": {},
   "source": [
    "## 1.7 类 class\n",
    " 类似于c++中类的概念，有初始化 _init_函数"
   ]
  },
  {
   "cell_type": "code",
   "execution_count": 10,
   "metadata": {},
   "outputs": [
    {
     "name": "stdout",
     "output_type": "stream",
     "text": [
      "1 200\n"
     ]
    }
   ],
   "source": [
    "class Person(object):\n",
    "    def __init__ (self, first, second, third): #这个构造函数的左右下划线都是两个，我只用了一个，导致错误。\n",
    "        self.first= first;\n",
    "        self.second = second;\n",
    "        self.third = third;\n",
    "    def full_name(self):\n",
    "        return self.first+' '+ self.third;\n",
    "person = Person('1','2','200')\n",
    "print(person.full_name());"
   ]
  },
  {
   "cell_type": "markdown",
   "metadata": {},
   "source": [
    "## 网络数据 data from web"
   ]
  }
 ],
 "metadata": {
  "kernelspec": {
   "display_name": "Python 3",
   "language": "python",
   "name": "python3"
  },
  "language_info": {
   "codemirror_mode": {
    "name": "ipython",
    "version": 3
   },
   "file_extension": ".py",
   "mimetype": "text/x-python",
   "name": "python",
   "nbconvert_exporter": "python",
   "pygments_lexer": "ipython3",
   "version": "3.6.1"
  }
 },
 "nbformat": 4,
 "nbformat_minor": 2
}
